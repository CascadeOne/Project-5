{
 "cells": [
  {
   "cell_type": "code",
   "execution_count": 1,
   "metadata": {},
   "outputs": [],
   "source": [
    "from bs4 import BeautifulSoup\n",
    "import requests\n",
    "import pandas as pd"
   ]
  },
  {
   "cell_type": "code",
   "execution_count": 2,
   "metadata": {},
   "outputs": [],
   "source": [
    "start_url = \"https://www.fema.gov/disaster-reporter-data\"\n",
    "page_source = requests.get(start_url).text"
   ]
  },
  {
   "cell_type": "code",
   "execution_count": 3,
   "metadata": {},
   "outputs": [],
   "source": [
    "soup = BeautifulSoup(page_source, 'lxml')"
   ]
  },
  {
   "cell_type": "code",
   "execution_count": 4,
   "metadata": {},
   "outputs": [
    {
     "data": {
      "text/plain": [
       "'/disaster-reporter-data?page=1'"
      ]
     },
     "execution_count": 4,
     "metadata": {},
     "output_type": "execute_result"
    }
   ],
   "source": [
    "next_link = soup.findChild(attrs={'class':'next'}).find('a').attrs['href']\n",
    "next_link"
   ]
  },
  {
   "cell_type": "code",
   "execution_count": 5,
   "metadata": {},
   "outputs": [
    {
     "name": "stdout",
     "output_type": "stream",
     "text": [
      "[<td><img alt=\"Photo: 1615 hwy 9\" src=\"https://www.fema.gov/media-library-data/20180924-2005-19716-1696/disaster_reporter_20180924160539_search_preview.jpg\"/><br/><a href=\"https://www.fema.gov/media-library-data/20180924-2005-19716-1696/disaster_reporter_20180924160539.jpg\" title=\"View full size of - 1615 hwy 9\">View Full Size</a><br/><a href=\"mailto:FEMA-New-Media@fema.dhs.gov?subject=Disaster%20Reporter:%20Review%20Image%20170920\" title=\"Report this image - 1615 hwy 9\">Report this Image</a></td>, <td>1615 hwy 9</td>, <td>Longs</td>, <td>SC</td>, <td>Floods</td>, <td>Sat, 09/22/2018 - 13:54</td>, <td class=\"active\">Mon, 09/24/2018 - 16:05</td>]\n",
      "[<td><img alt=\"Photo: Southport bc\" src=\"https://www.fema.gov/media-library-data/20180924-1838-18167-5375/disaster_reporter_20180924143810_search_preview.jpg\"/><br/><a href=\"https://www.fema.gov/media-library-data/20180924-1838-18167-5375/disaster_reporter_20180924143810.jpg\" title=\"View full size of - Southport bc\">View Full Size</a><br/><a href=\"mailto:FEMA-New-Media@fema.dhs.gov?subject=Disaster%20Reporter:%20Review%20Image%20170906\" title=\"Report this image - Southport bc\">Report this Image</a></td>, <td>Southport bc</td>, <td></td>, <td></td>, <td>Hurricanes</td>, <td>Wed, 09/19/2018 - 16:19</td>, <td class=\"active\">Mon, 09/24/2018 - 14:38</td>]\n",
      "[<td><img alt=\"Photo: Kathy Tripp's crushed barn\" src=\"https://www.fema.gov/media-library-data/20180924-1617-12436-7396/disaster_reporter_20180924121713_search_preview.jpg\"/><br/><a href=\"https://www.fema.gov/media-library-data/20180924-1617-12436-7396/disaster_reporter_20180924121713.jpg\" title=\"View full size of - Kathy Tripp&amp;#039;s crushed barn\">View Full Size</a><br/><a href=\"mailto:FEMA-New-Media@fema.dhs.gov?subject=Disaster%20Reporter:%20Review%20Image%20170894\" title=\"Report this image - Kathy Tripp's crushed barn\">Report this Image</a></td>, <td>Kathy Tripp's crushed barn</td>, <td>Newport</td>, <td>NC</td>, <td>Hurricanes</td>, <td>Sat, 09/15/2018 - 05:14</td>, <td class=\"active\">Mon, 09/24/2018 - 12:17</td>]\n",
      "[<td><img alt=\"Photo: Conway sc\" src=\"https://www.fema.gov/media-library-data/20180923-1240-13399-6034/disaster_reporter_20180923084053_search_preview.jpg\"/><br/><a href=\"https://www.fema.gov/media-library-data/20180923-1240-13399-6034/disaster_reporter_20180923084053.jpg\" title=\"View full size of - Conway sc\">View Full Size</a><br/><a href=\"mailto:FEMA-New-Media@fema.dhs.gov?subject=Disaster%20Reporter:%20Review%20Image%20170843\" title=\"Report this image - Conway sc\">Report this Image</a></td>, <td>Conway sc</td>, <td></td>, <td></td>, <td>Hurricanes</td>, <td>Sat, 09/15/2018 - 10:34</td>, <td class=\"active\">Sun, 09/23/2018 - 08:40</td>]\n",
      "[<td><img alt=\"Photo: My yard\" src=\"https://www.fema.gov/media-library-data/20180922-2138-18164-6651/disaster_reporter_20180922173843_search_preview.jpg\"/><br/><a href=\"https://www.fema.gov/media-library-data/20180922-2138-18164-6651/disaster_reporter_20180922173843.jpg\" title=\"View full size of - My yard\">View Full Size</a><br/><a href=\"mailto:FEMA-New-Media@fema.dhs.gov?subject=Disaster%20Reporter:%20Review%20Image%20170842\" title=\"Report this image - My yard\">Report this Image</a></td>, <td>My yard</td>, <td></td>, <td></td>, <td>Hurricanes</td>, <td>Thu, 09/20/2018 - 04:53</td>, <td class=\"active\">Sat, 09/22/2018 - 17:38</td>]\n",
      "[<td><img alt=\"Photo: CAP PHOTO HMW 8’\" src=\"https://www.fema.gov/media-library-data/20180922-2047-18173-0028/disaster_reporter_20180922164723_search_preview.jpg\"/><br/><a href=\"https://www.fema.gov/media-library-data/20180922-2047-18173-0028/disaster_reporter_20180922164723.jpg\" title=\"View full size of - CAP PHOTO HMW 8’\">View Full Size</a><br/><a href=\"mailto:FEMA-New-Media@fema.dhs.gov?subject=Disaster%20Reporter:%20Review%20Image%20170841\" title=\"Report this image - CAP PHOTO HMW 8’\">Report this Image</a></td>, <td>CAP PHOTO HMW 8’</td>, <td></td>, <td></td>, <td>Hurricanes</td>, <td>Sat, 09/22/2018 - 16:32</td>, <td class=\"active\">Sat, 09/22/2018 - 16:47</td>]\n",
      "[<td><img alt=\"Photo: Target 14, Odell ventures landing, Johnsonville, S\" src=\"https://www.fema.gov/media-library-data/20180922-1944-13390-2248/disaster_reporter_20180922154411_search_preview.jpg\"/><br/><a href=\"https://www.fema.gov/media-library-data/20180922-1944-13390-2248/disaster_reporter_20180922154411.jpg\" title=\"View full size of - Target 14, Odell ventures landing, Johnsonville, S\">View Full Size</a><br/><a href=\"mailto:FEMA-New-Media@fema.dhs.gov?subject=Disaster%20Reporter:%20Review%20Image%20170840\" title=\"Report this image - Target 14, Odell ventures landing, Johnsonville, S\">Report this Image</a></td>, <td>Target 14, Odell ventures landing, Johnsonville, S</td>, <td></td>, <td></td>, <td>Floods</td>, <td>Sat, 09/22/2018 - 15:43</td>, <td class=\"active\">Sat, 09/22/2018 - 15:44</td>]\n",
      "[<td><img alt=\"Photo: Our house\" src=\"https://www.fema.gov/media-library-data/20180922-1941-1129-6747/disaster_reporter_20180922154101_search_preview.jpg\"/><br/><a href=\"https://www.fema.gov/media-library-data/20180922-1941-1129-6747/disaster_reporter_20180922154101.jpg\" title=\"View full size of - Our house\">View Full Size</a><br/><a href=\"mailto:FEMA-New-Media@fema.dhs.gov?subject=Disaster%20Reporter:%20Review%20Image%20170839\" title=\"Report this image - Our house\">Report this Image</a></td>, <td>Our house</td>, <td></td>, <td></td>, <td>Floods</td>, <td>Mon, 09/17/2018 - 05:47</td>, <td class=\"active\">Sat, 09/22/2018 - 15:41</td>]\n",
      "[<td><img alt=\"Photo: Drive way\" src=\"https://www.fema.gov/media-library-data/20180922-1939-13399-0117/disaster_reporter_20180922153948_search_preview.jpg\"/><br/><a href=\"https://www.fema.gov/media-library-data/20180922-1939-13399-0117/disaster_reporter_20180922153948.jpg\" title=\"View full size of - Drive way\">View Full Size</a><br/><a href=\"mailto:FEMA-New-Media@fema.dhs.gov?subject=Disaster%20Reporter:%20Review%20Image%20170838\" title=\"Report this image - Drive way\">Report this Image</a></td>, <td>Drive way</td>, <td></td>, <td></td>, <td>Floods</td>, <td>Thu, 09/20/2018 - 09:00</td>, <td class=\"active\">Sat, 09/22/2018 - 15:39</td>]\n",
      "[<td><img alt=\"Photo: Shelter\" src=\"https://www.fema.gov/media-library-data/20180918-2341-19716-5277/disaster_reporter_20180918194146_search_preview.jpg\"/><br/><a href=\"https://www.fema.gov/media-library-data/20180918-2341-19716-5277/disaster_reporter_20180918194146.jpg\" title=\"View full size of - Shelter\">View Full Size</a><br/><a href=\"mailto:FEMA-New-Media@fema.dhs.gov?subject=Disaster%20Reporter:%20Review%20Image%20170488\" title=\"Report this image - Shelter\">Report this Image</a></td>, <td>Shelter</td>, <td>Lumberton</td>, <td>NC</td>, <td>Hurricanes</td>, <td>Sun, 09/16/2018 - 15:51</td>, <td class=\"active\">Tue, 09/18/2018 - 19:41</td>]\n",
      "[<td><img alt=\"Photo: Neighbor\" src=\"https://www.fema.gov/media-library-data/20180918-2306-12439-3238/disaster_reporter_20180918190604_search_preview.jpg\"/><br/><a href=\"https://www.fema.gov/media-library-data/20180918-2306-12439-3238/disaster_reporter_20180918190604.jpg\" title=\"View full size of - Neighbor\">View Full Size</a><br/><a href=\"mailto:FEMA-New-Media@fema.dhs.gov?subject=Disaster%20Reporter:%20Review%20Image%20170481\" title=\"Report this image - Neighbor\">Report this Image</a></td>, <td>Neighbor</td>, <td>Havelock</td>, <td>NC</td>, <td>Hurricanes</td>, <td>Sat, 09/15/2018 - 11:10</td>, <td class=\"active\">Tue, 09/18/2018 - 19:06</td>]\n",
      "[<td><img alt=\"Photo: Flooded for hurricane Florence at rocky Point, NC\" src=\"https://www.fema.gov/media-library-data/20180918-2024-18164-0196/disaster_reporter_20180918162406_search_preview.jpg\"/><br/><a href=\"https://www.fema.gov/media-library-data/20180918-2024-18164-0196/disaster_reporter_20180918162406.jpg\" title=\"View full size of - Flooded for hurricane Florence at rocky Point, NC\">View Full Size</a><br/><a href=\"mailto:FEMA-New-Media@fema.dhs.gov?subject=Disaster%20Reporter:%20Review%20Image%20170470\" title=\"Report this image - Flooded for hurricane Florence at rocky Point, NC\">Report this Image</a></td>, <td>Flooded for hurricane Florence at rocky Point, NC</td>, <td>Rocky Point</td>, <td>NC</td>, <td>Floods</td>, <td>Sun, 09/16/2018 - 07:01</td>, <td class=\"active\">Tue, 09/18/2018 - 16:24</td>]\n",
      "[<td><img alt=\"Photo: Flooded road\" src=\"https://www.fema.gov/media-library-data/20180918-2007-7498-1410/disaster_reporter_20180918160656_search_preview.jpg\"/><br/><a href=\"https://www.fema.gov/media-library-data/20180918-2007-7498-1410/disaster_reporter_20180918160656.jpg\" title=\"View full size of - Flooded road\">View Full Size</a><br/><a href=\"mailto:FEMA-New-Media@fema.dhs.gov?subject=Disaster%20Reporter:%20Review%20Image%20170468\" title=\"Report this image - Flooded road\">Report this Image</a></td>, <td>Flooded road</td>, <td>Wallace</td>, <td>NC</td>, <td>Hurricanes</td>, <td>Tue, 09/18/2018 - 15:53</td>, <td class=\"active\">Tue, 09/18/2018 - 16:07</td>]\n",
      "[<td><img alt=\"Photo: Flooded\" src=\"https://www.fema.gov/media-library-data/20180918-1935-18164-1991/disaster_reporter_20180918153437_search_preview.jpg\"/><br/><a href=\"https://www.fema.gov/media-library-data/20180918-1935-18164-1991/disaster_reporter_20180918153437.jpg\" title=\"View full size of - Flooded\">View Full Size</a><br/><a href=\"mailto:FEMA-New-Media@fema.dhs.gov?subject=Disaster%20Reporter:%20Review%20Image%20170460\" title=\"Report this image - Flooded\">Report this Image</a></td>, <td>Flooded</td>, <td>Currie</td>, <td>NC</td>, <td>Floods</td>, <td>Sun, 09/16/2018 - 06:58</td>, <td class=\"active\">Tue, 09/18/2018 - 15:35</td>]\n",
      "[<td><img alt=\"Photo: My sisters house Mmray road\" src=\"https://www.fema.gov/media-library-data/20180918-1844-19716-6409/disaster_reporter_20180918144438_search_preview.jpg\"/><br/><a href=\"https://www.fema.gov/media-library-data/20180918-1844-19716-6409/disaster_reporter_20180918144438.jpg\" title=\"View full size of - My sisters house Mmray road\">View Full Size</a><br/><a href=\"mailto:FEMA-New-Media@fema.dhs.gov?subject=Disaster%20Reporter:%20Review%20Image%20170450\" title=\"Report this image - My sisters house Mmray road\">Report this Image</a></td>, <td>My sisters house Mmray road</td>, <td></td>, <td></td>, <td>Floods</td>, <td>Mon, 09/17/2018 - 12:24</td>, <td class=\"active\">Tue, 09/18/2018 - 14:44</td>]\n",
      "[<td><img alt=\"Photo: Downtown New Bern\" src=\"https://www.fema.gov/media-library-data/20180918-1813-12433-8443/disaster_reporter_20180918141338_search_preview.jpg\"/><br/><a href=\"https://www.fema.gov/media-library-data/20180918-1813-12433-8443/disaster_reporter_20180918141338.jpg\" title=\"View full size of - Downtown New Bern\">View Full Size</a><br/><a href=\"mailto:FEMA-New-Media@fema.dhs.gov?subject=Disaster%20Reporter:%20Review%20Image%20170447\" title=\"Report this image - Downtown New Bern\">Report this Image</a></td>, <td>Downtown New Bern</td>, <td></td>, <td></td>, <td>Hurricanes</td>, <td>Sun, 09/16/2018 - 15:20</td>, <td class=\"active\">Tue, 09/18/2018 - 14:13</td>]\n",
      "[<td><img alt=\"Photo: My hometown, Lumberton, N.C. highway 41 south\" src=\"https://www.fema.gov/media-library-data/20180918-1808-1123-6650/disaster_reporter_20180918140829_search_preview.jpg\"/><br/><a href=\"https://www.fema.gov/media-library-data/20180918-1808-1123-6650/disaster_reporter_20180918140829.jpg\" title=\"View full size of - My hometown, Lumberton, N.C. highway 41 south\">View Full Size</a><br/><a href=\"mailto:FEMA-New-Media@fema.dhs.gov?subject=Disaster%20Reporter:%20Review%20Image%20170446\" title=\"Report this image - My hometown, Lumberton, N.C. highway 41 south\">Report this Image</a></td>, <td>My hometown, Lumberton, N.C. highway 41 south</td>, <td></td>, <td></td>, <td>Hurricanes</td>, <td>Mon, 09/17/2018 - 05:02</td>, <td class=\"active\">Tue, 09/18/2018 - 14:08</td>]\n",
      "[<td><img alt=\"Photo: Flooding\" src=\"https://www.fema.gov/media-library-data/20180915-2350-12439-8666/disaster_reporter_20180915195044_search_preview.jpg\"/><br/><a href=\"https://www.fema.gov/media-library-data/20180915-2350-12439-8666/disaster_reporter_20180915195044.jpg\" title=\"View full size of - Flooding\">View Full Size</a><br/><a href=\"mailto:FEMA-New-Media@fema.dhs.gov?subject=Disaster%20Reporter:%20Review%20Image%20170149\" title=\"Report this image - Flooding\">Report this Image</a></td>, <td>Flooding</td>, <td></td>, <td></td>, <td>Hurricanes</td>, <td>Sat, 09/15/2018 - 09:44</td>, <td class=\"active\">Sat, 09/15/2018 - 19:50</td>]\n",
      "[<td><img alt=\"Photo: Wind damages\" src=\"https://www.fema.gov/media-library-data/20180915-2344-18173-1047/disaster_reporter_20180915194428_search_preview.jpg\"/><br/><a href=\"https://www.fema.gov/media-library-data/20180915-2344-18173-1047/disaster_reporter_20180915194428.jpg\" title=\"View full size of - Wind damages\">View Full Size</a><br/><a href=\"mailto:FEMA-New-Media@fema.dhs.gov?subject=Disaster%20Reporter:%20Review%20Image%20170148\" title=\"Report this image - Wind damages\">Report this Image</a></td>, <td>Wind damages</td>, <td></td>, <td></td>, <td>Hurricanes</td>, <td>Sat, 09/15/2018 - 09:40</td>, <td class=\"active\">Sat, 09/15/2018 - 19:44</td>]\n",
      "[<td><img alt=\"Photo: Tree down\" src=\"https://www.fema.gov/media-library-data/20180915-2341-13393-7105/disaster_reporter_20180915194046_search_preview.jpg\"/><br/><a href=\"https://www.fema.gov/media-library-data/20180915-2341-13393-7105/disaster_reporter_20180915194046.jpg\" title=\"View full size of - Tree down\">View Full Size</a><br/><a href=\"mailto:FEMA-New-Media@fema.dhs.gov?subject=Disaster%20Reporter:%20Review%20Image%20170147\" title=\"Report this image - Tree down\">Report this Image</a></td>, <td>Tree down</td>, <td></td>, <td></td>, <td>Hurricanes</td>, <td>Sat, 09/15/2018 - 09:42</td>, <td class=\"active\">Sat, 09/15/2018 - 19:41</td>]\n"
     ]
    }
   ],
   "source": [
    "header = ['Disaster Reports', 'Headlines', 'City', 'State',\n",
    "          'Disaster Type', 'Photo Date', 'Report Date']\n",
    "\n",
    "rows = soup.find('table').find('tbody').findAll('tr')\n",
    "\n",
    "for row in rows:\n",
    "    print(row.findAll('td'))"
   ]
  },
  {
   "cell_type": "code",
   "execution_count": 6,
   "metadata": {},
   "outputs": [],
   "source": [
    "def parse_page(source):\n",
    "    \n",
    "    soup = BeautifulSoup(source, \"lxml\")\n",
    "    \n",
    "    ### Scrape the table\n",
    "    rows = soup.find(\"table\").find(\"tbody\").findAll(\"tr\")\n",
    "\n",
    "    data = []\n",
    "\n",
    "    for row in rows:\n",
    "\n",
    "        data_row = []\n",
    "\n",
    "        for value in row.findAll(\"td\"):\n",
    "            data_row.append(value.text)\n",
    "\n",
    "        data.append(data_row)\n",
    "\n",
    "    return data\n",
    "\n",
    "def fetch_page(url):\n",
    "    start_url = url\n",
    "    return requests.get(start_url).text"
   ]
  },
  {
   "cell_type": "code",
   "execution_count": 8,
   "metadata": {},
   "outputs": [
    {
     "name": "stdout",
     "output_type": "stream",
     "text": [
      "Fetching next page...0\n",
      "Fetching next page...1\n",
      "Fetching next page...2\n",
      "Fetching next page...3\n",
      "Fetching next page...4\n",
      "Fetching next page...5\n",
      "Fetching next page...6\n",
      "Fetching next page...7\n",
      "Fetching next page...8\n",
      "Fetching next page...9\n",
      "Fetching next page...10\n",
      "Fetching next page...11\n",
      "Fetching next page...12\n",
      "Fetching next page...13\n",
      "Fetching next page...14\n",
      "Fetching next page...15\n",
      "Fetching next page...16\n",
      "Fetching next page...17\n",
      "Fetching next page...18\n",
      "Fetching next page...19\n",
      "Fetching next page...20\n",
      "Fetching next page...21\n",
      "Fetching next page...22\n",
      "Fetching next page...23\n",
      "Fetching next page...24\n",
      "Fetching next page...25\n",
      "Fetching next page...26\n",
      "Fetching next page...27\n",
      "Fetching next page...28\n",
      "Fetching next page...29\n",
      "Fetching next page...30\n",
      "Fetching next page...31\n",
      "Fetching next page...32\n",
      "Fetching next page...33\n",
      "Fetching next page...34\n",
      "Fetching next page...35\n",
      "Fetching next page...36\n",
      "Fetching next page...37\n",
      "Fetching next page...38\n",
      "Fetching next page...39\n",
      "Fetching next page...40\n",
      "Fetching next page...41\n",
      "Fetching next page...42\n",
      "Fetching next page...43\n",
      "Fetching next page...44\n",
      "Fetching next page...45\n",
      "Fetching next page...46\n",
      "Fetching next page...47\n",
      "Fetching next page...48\n",
      "Fetching next page...49\n"
     ]
    }
   ],
   "source": [
    "start_url = \"https://www.fema.gov/disaster-reporter-data\"\n",
    "page_source = fetch_page(start_url)\n",
    "\n",
    "#is there a next link?\n",
    "next_link = soup.findChild(attrs={'class':'next'}).find('a').attrs['href']\n",
    "next_link\n",
    "\n",
    "all_data = parse_page(page_source)\n",
    "\n",
    "max_fetches = 50\n",
    "current_page = 0\n",
    "\n",
    "while True:\n",
    "    \n",
    "    if current_page >= max_fetches:\n",
    "        break\n",
    "    \n",
    "    if next_link:\n",
    "        print(\"Fetching next page...{}\".format(current_page))\n",
    "        next_url = 'https://www.fema.gov{}'.format(next_link)\n",
    "        next_page_source = fetch_page(next_url)\n",
    "        page_data = parse_page(next_page_source)\n",
    "        all_data.extend(page_data)\n",
    "    \n",
    "    current_page += 1\n",
    "\n",
    "#parse_page(page_source)"
   ]
  },
  {
   "cell_type": "code",
   "execution_count": 10,
   "metadata": {},
   "outputs": [
    {
     "data": {
      "text/html": [
       "<div>\n",
       "<style scoped>\n",
       "    .dataframe tbody tr th:only-of-type {\n",
       "        vertical-align: middle;\n",
       "    }\n",
       "\n",
       "    .dataframe tbody tr th {\n",
       "        vertical-align: top;\n",
       "    }\n",
       "\n",
       "    .dataframe thead th {\n",
       "        text-align: right;\n",
       "    }\n",
       "</style>\n",
       "<table border=\"1\" class=\"dataframe\">\n",
       "  <thead>\n",
       "    <tr style=\"text-align: right;\">\n",
       "      <th></th>\n",
       "      <th>Disaster Reports</th>\n",
       "      <th>Headlines</th>\n",
       "      <th>City</th>\n",
       "      <th>State</th>\n",
       "      <th>Disaster Type</th>\n",
       "      <th>Photo Date</th>\n",
       "      <th>Report Date</th>\n",
       "    </tr>\n",
       "  </thead>\n",
       "  <tbody>\n",
       "    <tr>\n",
       "      <th>0</th>\n",
       "      <td>View Full SizeReport this Image</td>\n",
       "      <td>1615 hwy 9</td>\n",
       "      <td>Longs</td>\n",
       "      <td>SC</td>\n",
       "      <td>Floods</td>\n",
       "      <td>Sat, 09/22/2018 - 13:54</td>\n",
       "      <td>Mon, 09/24/2018 - 16:05</td>\n",
       "    </tr>\n",
       "    <tr>\n",
       "      <th>1</th>\n",
       "      <td>View Full SizeReport this Image</td>\n",
       "      <td>Southport bc</td>\n",
       "      <td></td>\n",
       "      <td></td>\n",
       "      <td>Hurricanes</td>\n",
       "      <td>Wed, 09/19/2018 - 16:19</td>\n",
       "      <td>Mon, 09/24/2018 - 14:38</td>\n",
       "    </tr>\n",
       "    <tr>\n",
       "      <th>2</th>\n",
       "      <td>View Full SizeReport this Image</td>\n",
       "      <td>Kathy Tripp's crushed barn</td>\n",
       "      <td>Newport</td>\n",
       "      <td>NC</td>\n",
       "      <td>Hurricanes</td>\n",
       "      <td>Sat, 09/15/2018 - 05:14</td>\n",
       "      <td>Mon, 09/24/2018 - 12:17</td>\n",
       "    </tr>\n",
       "    <tr>\n",
       "      <th>3</th>\n",
       "      <td>View Full SizeReport this Image</td>\n",
       "      <td>Conway sc</td>\n",
       "      <td></td>\n",
       "      <td></td>\n",
       "      <td>Hurricanes</td>\n",
       "      <td>Sat, 09/15/2018 - 10:34</td>\n",
       "      <td>Sun, 09/23/2018 - 08:40</td>\n",
       "    </tr>\n",
       "    <tr>\n",
       "      <th>4</th>\n",
       "      <td>View Full SizeReport this Image</td>\n",
       "      <td>My yard</td>\n",
       "      <td></td>\n",
       "      <td></td>\n",
       "      <td>Hurricanes</td>\n",
       "      <td>Thu, 09/20/2018 - 04:53</td>\n",
       "      <td>Sat, 09/22/2018 - 17:38</td>\n",
       "    </tr>\n",
       "  </tbody>\n",
       "</table>\n",
       "</div>"
      ],
      "text/plain": [
       "                  Disaster Reports                   Headlines     City State  \\\n",
       "0  View Full SizeReport this Image                  1615 hwy 9    Longs    SC   \n",
       "1  View Full SizeReport this Image                Southport bc                  \n",
       "2  View Full SizeReport this Image  Kathy Tripp's crushed barn  Newport    NC   \n",
       "3  View Full SizeReport this Image                   Conway sc                  \n",
       "4  View Full SizeReport this Image                     My yard                  \n",
       "\n",
       "  Disaster Type               Photo Date              Report Date  \n",
       "0        Floods  Sat, 09/22/2018 - 13:54  Mon, 09/24/2018 - 16:05  \n",
       "1    Hurricanes  Wed, 09/19/2018 - 16:19  Mon, 09/24/2018 - 14:38  \n",
       "2    Hurricanes  Sat, 09/15/2018 - 05:14  Mon, 09/24/2018 - 12:17  \n",
       "3    Hurricanes  Sat, 09/15/2018 - 10:34  Sun, 09/23/2018 - 08:40  \n",
       "4    Hurricanes  Thu, 09/20/2018 - 04:53  Sat, 09/22/2018 - 17:38  "
      ]
     },
     "execution_count": 10,
     "metadata": {},
     "output_type": "execute_result"
    }
   ],
   "source": [
    "df = pd.DataFrame(all_data, columns = header)\n",
    "df.head()"
   ]
  },
  {
   "cell_type": "code",
   "execution_count": 12,
   "metadata": {},
   "outputs": [],
   "source": [
    "df.to_csv('fema.csv', encoding = 'UTF8')"
   ]
  },
  {
   "cell_type": "code",
   "execution_count": 13,
   "metadata": {},
   "outputs": [
    {
     "data": {
      "text/plain": [
       "(1020, 7)"
      ]
     },
     "execution_count": 13,
     "metadata": {},
     "output_type": "execute_result"
    }
   ],
   "source": [
    "df.shape"
   ]
  },
  {
   "cell_type": "code",
   "execution_count": null,
   "metadata": {},
   "outputs": [],
   "source": []
  }
 ],
 "metadata": {
  "kernelspec": {
   "display_name": "Python 3",
   "language": "python",
   "name": "python3"
  },
  "language_info": {
   "codemirror_mode": {
    "name": "ipython",
    "version": 3
   },
   "file_extension": ".py",
   "mimetype": "text/x-python",
   "name": "python",
   "nbconvert_exporter": "python",
   "pygments_lexer": "ipython3",
   "version": "3.6.5"
  }
 },
 "nbformat": 4,
 "nbformat_minor": 2
}
