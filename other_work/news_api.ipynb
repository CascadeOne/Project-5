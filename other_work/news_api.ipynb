{
 "cells": [
  {
   "cell_type": "code",
   "execution_count": null,
   "metadata": {},
   "outputs": [],
   "source": [
    "# !pip install newsapi-python\n",
    "\n",
    "# #Usage\n",
    "# from newsapi import NewsApiClient\n",
    "\n",
    "# # Init\n",
    "# newsapi = NewsApiClient(api_key='API_KEY')\n",
    "\n",
    "# # /v2/top-headlines\n",
    "# top_headlines = newsapi.get_top_headlines(q='bitcoin',\n",
    "#                                           sources='bbc-news,the-verge',\n",
    "#                                           category='business',\n",
    "#                                           language='en',\n",
    "#                                           country='us')\n",
    "\n",
    "# # /v2/everything\n",
    "# all_articles = newsapi.get_everything(q='bitcoin',\n",
    "#                                       sources='bbc-news,the-verge',\n",
    "#                                       domains='bbc.co.uk,techcrunch.com',\n",
    "#                                       from_param='2017-12-01',\n",
    "#                                       to='2017-12-12',\n",
    "#                                       language='en',\n",
    "#                                       sort_by='relevancy',\n",
    "#                                       page=2)\n",
    "\n",
    "# # /v2/sources\n",
    "# sources = newsapi.get_sources()"
   ]
  },
  {
   "cell_type": "code",
   "execution_count": 1,
   "metadata": {},
   "outputs": [],
   "source": [
    "import requests"
   ]
  },
  {
   "cell_type": "code",
   "execution_count": 2,
   "metadata": {},
   "outputs": [],
   "source": [
    "#https://newsapi.org/v2/top-headlines?country=us&apiKey=cded74bf8ca34ad5ae851465e5ed179f\n",
    "\n",
    "url = ('https://newsapi.org/v2/top-headlines?'\n",
    "       'country=us&'\n",
    "       'apiKey=cded74bf8ca34ad5ae851465e5ed179f')"
   ]
  },
  {
   "cell_type": "code",
   "execution_count": 3,
   "metadata": {},
   "outputs": [],
   "source": [
    "response = requests.get(url)"
   ]
  },
  {
   "cell_type": "code",
   "execution_count": 4,
   "metadata": {},
   "outputs": [
    {
     "name": "stdout",
     "output_type": "stream",
     "text": [
      "{'status': 'ok', 'totalResults': 20, 'articles': [{'source': {'id': 'the-wall-street-journal', 'name': 'The Wall Street Journal'}, 'author': None, 'title': \"Honda to Invest $2.75 Billion in GM's Self-Driving Car Unit\", 'description': None, 'url': 'https://www.wsj.com/articles/honda-to-invest-in-gms-self-driving-car-unit-gm-cruise-1538569503', 'urlToImage': None, 'publishedAt': '2018-10-03T15:04:00Z', 'content': None}, {'source': {'id': None, 'name': 'Globalnews.ca'}, 'author': 'Rebecca Joseph', 'title': 'Pictures show just how close a Chinese warship came to a US Navy ship', 'description': 'A Chinese warship came dangerously close to a U.S. Navy ship in the South Chinese Sea, a move that was called “unsafe and unprofessional.”', 'url': 'https://globalnews.ca/news/4512521/south-china-sea-warship-us-navy/', 'urlToImage': 'https://shawglobalnews.files.wordpress.com/2018/10/19849282.jpg?quality=70&strip=all&w=720&h=480&crop=1', 'publishedAt': '2018-10-03T14:49:00Z', 'content': 'A Chinese warship came dangerously close to a U.S. Navy ship in the South China Sea last weekend, a move that was called “unsafe and unprofessional.” In pictures posted by the blog gCaptain, a blog dedicated to maritime professionals, the Chinese destroyer ca… [+2399 chars]'}, {'source': {'id': None, 'name': 'Abc7ny.com'}, 'author': None, 'title': 'National Weather Service confirms tornado touched down on Long Island', 'description': 'Officials said an EF1 tornado touched down in Stony Point, while an EF0 twister touched down in Ronkonkoma.', 'url': 'https://abc7ny.com/weather/nws-confirms-tornado-touched-down-on-long-island/4395262/', 'urlToImage': 'https://cdns.abclocal.go.com/content/wabc/images/cms/automation/vod/4400230_1280x720.jpg', 'publishedAt': '2018-10-03T14:33:00Z', 'content': 'The National Weather Service has confirmed that tornadoes touched down in Rockland County and on Long Island during torrential storms Tuesday. Officials said an EF1 tornado touched down in Stony Point, while an EF0 twister touched down in Ronkonkoma. The EF1 … [+1938 chars]'}, {'source': {'id': None, 'name': 'Nola.com'}, 'author': 'Carlie Kollath Wells', 'title': 'Hurricane forecasters tracking system in Caribbean', 'description': 'The system has a 30 percent chance of development.', 'url': 'https://www.nola.com/hurricane/index.ssf/2018/10/disturbance_caribbean_developm.html', 'urlToImage': 'https://image.nola.com/home/nola-media/width620/img/hurricane_impact/photo/24924906-standard.png', 'publishedAt': '2018-10-03T14:32:00Z', 'content': \"Hurricane forecasters on Wednesday morning (Oct. 3) were tracking a disturbance in the Caribbean. It has a 30 percent chance of developing into at least a tropical depression. The low pressure system doesn't pose an immediate threat to New Orleans, but foreca… [+1807 chars]\"}, {'source': {'id': 'cnbc', 'name': 'CNBC'}, 'author': 'Reuters', 'title': 'Brent crude steadies near $85 as Saudi raises oil output towards record', 'description': 'Oil slipped on Wednesday, retreating from session peaks near a four-year high as top exporter Saudi Arabia said it increased output.', 'url': 'https://www.cnbc.com/2018/10/03/oil-markets-us-crude-inventories-us-sanctions-on-iran-in-focus.html', 'urlToImage': 'https://fm.cnbc.com/applications/cnbc.com/resources/img/editorial/2018/06/04/105249216-RTX67GWW.1910x1000.jpg', 'publishedAt': '2018-10-03T14:29:55Z', 'content': 'Oil prices fell on Wednesday after government data showed a big jump in U.S. crude stockpiles and top exporter Saudi Arabia said it increased output to near a record high. Commercial crude stored in the United States rose by 8 million barrels in the week thro… [+773 chars]'}, {'source': {'id': 'the-washington-post', 'name': 'The Washington Post'}, 'author': None, 'title': \"'Just plain wrong': Flake, Collins criticize Trump for mocking Kavanaugh accuser at political rally\", 'description': 'Key figures in the Supreme Court confirmation battle spoke out the morning after the president’s most direct attack on Christine Blasey Ford.', 'url': 'https://www.washingtonpost.com/politics/flake-says-trumps-mocking-of-ford-at-political-rally-was-kind-of-appalling/2018/10/03/286c3dba-c6f4-11e8-b1ed-1d2d65b86d0c_story.html', 'urlToImage': 'https://www.washingtonpost.com/resizer/3bEteLDy__d24Yd9Hc5FRkaiwYY=/1484x0/arc-anglerfish-washpost-prod-washpost.s3.amazonaws.com/public/HL45HLGG6QI6RMPNDUWWLODNBQ.jpg', 'publishedAt': '2018-10-03T14:22:16Z', 'content': 'Two senators considered crucial to the confirmation prospects of Judge Brett M. Kavanaugh criticized President Trump on Wednesday for mocking the account of a woman who has accused his Supreme Court nominee of sexual assault decades ago. “There’s no time and … [+7337 chars]'}, {'source': {'id': 'usa-today', 'name': 'USA Today'}, 'author': 'Ledyard King', 'title': 'That FEMA alert coming to your phone Wednesday is not a text from President Trump. What you need to know', 'description': 'The Federal Emergency Management Agency (FEMA) is conducting\\xa0a nationwide test of its Wireless Emergency Alerts (WEA), similar to the ones conducted on radio and television. This will be the\\xa0first national\\xa0test of the cellphone alerts.', 'url': 'https://www.usatoday.com/story/news/politics/2018/10/02/cell-phones-national-alert-message/1497875002/', 'urlToImage': 'https://www.gannett-cdn.com/presto/2018/10/01/PPHX/9dd7ad3a-c167-4738-a17b-16eb5112a176-wea_test_graphic_phone_only_081018.png?crop=524,298,x0,y44&width=3200&height=1680&fit=bounds', 'publishedAt': '2018-10-03T14:21:22Z', 'content': 'The Federal Emergency Management Agency will conduct a test of the national alert system that allows \"presidential alerts\" to hit the majority of cellphones. USA TODAY Photo of what the Presidential Alert will look like (Photo: FEMA) WASHINGTON – Millions of … [+1939 chars]'}, {'source': {'id': 'the-new-york-times', 'name': 'The New York Times'}, 'author': None, 'title': 'Where Indonesia Quake Turned Ground to Jelly, People and Homes Are Unaccounted For', 'description': 'In one part of Palu, hundreds of buildings flowed sideways before being buried. Only now has heavy equipment been brought in to the search for the missing.', 'url': 'https://www.nytimes.com/2018/10/03/world/asia/indonesia-earthquake-tsunami-liquefaction.html', 'urlToImage': 'https://static01.nyt.com/images/2018/10/03/world/03tsunami-1-sub/03tsunami-1-sub-facebookJumbo.jpg', 'publishedAt': '2018-10-03T14:15:00Z', 'content': 'In the subdistrict of Baladonda, south of Donggala, some young men aggressively sought “donations” from passing motorists. One driver handed over a box of instant noodles. The next coughed up a box of drinking water. Others got past by donating money. Back in… [+765 chars]'}, {'source': {'id': None, 'name': 'Cbssports.com'}, 'author': '', 'title': \"NL Wild Card Game: How Kyle Freeland and the Rockies neutralized one of the Cubs' most dangerous hitters\", 'description': 'It almost seemed as if the young Colorado native saved his nastiest stuff for Kris Bryant', 'url': 'https://www.cbssports.com/mlb/news/nl-wild-card-game-how-kyle-freeland-and-the-rockies-neutralized-one-of-the-cubs-most-dangerous-hitters/', 'urlToImage': 'https://sportshub.cbsistatic.com/i/r/2018/10/03/c372672e-ed0f-49e9-94ef-7f8b552e3019/thumbnail/770x433/2bb6fa1a2776ab1c188b3fd4afc5232f/kyle-freeland-rockies.jpg', 'publishedAt': '2018-10-03T13:21:00Z', 'content': \"In a game that featured a passel of defensive gems, a perfectly-timed mad dash, an unlikely hero, and some of the most impeccable, pinpoint pitching you'll ever see, the Colorado Rockies beat the Chicago Cubs 2-1, winning the longest playoff game in the 104-y… [+8012 chars]\"}, {'source': {'id': None, 'name': 'Bbc.com'}, 'author': 'https://www.facebook.com/bbcnews', 'title': 'Melania Trump, US first lady, visits Ghana slave fort', 'description': 'The US first lady, on her first visit to Africa, says the slave trade was \"really a tragedy\".', 'url': 'https://www.bbc.com/news/world-africa-45734901', 'urlToImage': 'https://ichef.bbci.co.uk/news/1024/branded_news/1192A/production/_103687917_8d7948df-4aae-43e2-97fb-95229c7bff38.jpg', 'publishedAt': '2018-10-03T13:19:37Z', 'content': 'Image copyright Daily Graphic Image caption Melania Trump paid a courtesy call on the local chief Osabarimba Kwesi Atta II before visiting the fort US First Lady Melania Trump has visited a former slave fort in Ghana on the second day of her solo trip to Afri… [+5903 chars]'}, {'source': {'id': None, 'name': 'Smithsonianmag.com'}, 'author': 'Meilan Solly', 'title': \"Three Evolutionary Scientists Share This Year's Nobel Prize in Chemistry\", 'description': 'Frances Arnold, George Smith and Gregory Winter employed principles seen in evolution to develop proteins that tackle global chemical problems', 'url': 'https://www.smithsonianmag.com/smart-news/three-evolutionary-scientists-share-years-nobel-prize-chemistry-180970453/', 'urlToImage': 'https://thumbs-prod.si-cdn.com/bkWQ9oADxNulp8yfQXvlduvRqS4=/1072x720/filters:no_upscale()/https://public-media.smithsonianmag.com/filer/03/61/03616f34-2a53-4503-964f-9036126222ba/nobel1.jpg', 'publishedAt': '2018-10-03T13:13:50Z', 'content': 'This year’s Nobel Prize in Chemistry was awarded to three researchers whose pioneering work with proteins has, in the words of one committee member, “applied the principles of Darwin in the test tube.” Frances H. Arnold of the California Institute of Technolo… [+6119 chars]'}, {'source': {'id': 'cbs-news', 'name': 'CBS News'}, 'author': 'CBS/AP', 'title': 'Washington Post columnist goes missing at Turkey consulate as fiancée waits outside', 'description': 'The Post said the journalist\\'s friends were worried \"after losing contact with him\" Tuesday following his visit to the consulate', 'url': 'https://www.cbsnews.com/news/jamal-khashoggi-washington-post-saudi-writer-missing-in-turkey-today-2018-10-03/', 'urlToImage': 'https://cbsnews2.cbsistatic.com/hub/i/r/2018/10/03/21a2097d-802f-48ad-9bf4-ed0f53ee91ed/thumbnail/1200x630/f5dc9326d4f95c884a5553ec0c52b061/saudi-writer-ap-18276106181315.jpg', 'publishedAt': '2018-10-03T12:15:00Z', 'content': \"DUBAI, United Arab Emirates -- A Saudi journalist who has written Washington Post columns critical of the kingdom's assertive crown prince has gone missing after visiting the Saudi Consulate in Istanbul, the newspaper said Wednesday, raising concerns over his… [+4215 chars]\"}, {'source': {'id': None, 'name': 'Syracuse.com'}, 'author': 'Kevin Tampone | ktampone@syracuse.com', 'title': 'Toys R Us revival? New, re-imagined stores are possible', 'description': 'Toys R Us decided to close all 800 U.S. stores earlier this year.', 'url': 'https://www.syracuse.com/business-news/index.ssf/2018/10/toys_r_us_revival_comeback.html', 'urlToImage': 'https://image.syracuse.com/home/syr-media/width620/img/business-impact/photo/24400380-standard.jpg', 'publishedAt': '2018-10-03T11:49:00Z', 'content': \"Toys R Us could be making a comeback from bankruptcy Under a new plan, the business would be revived behind the Toys R Us and Babies R Us brand names, according to The Wall Street Journal. As a result, a bankruptcy auction for the company's intellectual prope… [+1418 chars]\"}, {'source': {'id': 'cbs-news', 'name': 'CBS News'}, 'author': 'CBS News', 'title': 'Clergy abuse left off agenda as pope opens Vatican youth meeting', 'description': 'A month-long meeting geared at attracting young people back to the church gets underway', 'url': 'https://www.cbsnews.com/news/vatican-youth-meeting-clergy-abuse-left-off-agenda-today-2018-10-03/', 'urlToImage': 'https://cbsnews2.cbsistatic.com/hub/i/r/2018/09/16/34b83e8f-8cd4-4041-ba99-c41445866548/thumbnail/1200x630g2/088f497f5dc8ad52342a677638488b3f/2018-09-15t164443z-208098092-rc1867c5b3d0-rtrmadp-3-pope-sicily.jpg', 'publishedAt': '2018-10-03T11:21:00Z', 'content': 'A month-long meeting of Catholic bishops from around the world gets underway Wednesday at the Vatican. Pope Francis opened the meeting Wednesday morning, which is designed to attract the young back to the church. Even before it began, the meeting faced critic… [+1572 chars]'}, {'source': {'id': 'the-washington-post', 'name': 'The Washington Post'}, 'author': 'https://www.facebook.com/erinmichellecunningham', 'title': \"United Nations' court rules US must allow humanitarian trade with Iran\", 'description': 'The ruling by the International Court of Justice, while binding but not enforceable, is still a symbolic victory for Tehran.', 'url': 'https://www.washingtonpost.com/world/united-nations-court-rules-us-must-allow-humanitarian-trade-with-iran/2018/10/03/a745e9bb-12d5-4281-8fcd-929badadaef0_story.html', 'urlToImage': 'https://www.washingtonpost.com/resizer/r78ukDRyJCZH7QgXRREWR7SA0iQ=/1484x0/arc-anglerfish-washpost-prod-washpost.s3.amazonaws.com/public/QI2Q4VGG7UI6RMPNDUWWLODNBQ.jpg', 'publishedAt': '2018-10-03T11:14:19Z', 'content': 'ISTANBUL — The United Nations’ highest court Wednesday ordered the United States to remove any restrictions on the export of humanitarian goods and services to Iran, granting Tehran a diplomatic victory after it challenged new U.S. sanctions in July. The inte… [+4478 chars]'}, {'source': {'id': 'reuters', 'name': 'Reuters'}, 'author': 'Sanjeev Miglani', 'title': 'India risks US sanctions with $5-billion purchase of Russian missiles', 'description': \"The United States has warned India against a planned purchase of S-400 surface-to-air missiles from Russia when President Vladimir Putin's visits New Delhi this week, saying such an acquisition would attract sanctions under U.S. law.\", 'url': 'https://www.reuters.com/article/us-india-russia/india-risks-u-s-sanctions-with-5-billion-purchase-of-russian-missiles-idUSKCN1MD18K', 'urlToImage': 'https://s3.reutersmedia.net/resources/r/?m=02&d=20181003&t=2&i=1310786737&w=1200&r=LYNXNPEE920T7', 'publishedAt': '2018-10-03T11:06:18Z', 'content': 'NEW DELHI/WASHINGTON (Reuters) - The United States has warned India against a planned purchase of S-400 surface-to-air missiles from Russia when President Vladimir Putin’s visits New Delhi this week, saying such an acquisition would attract sanctions under U.… [+3384 chars]'}, {'source': {'id': 'fortune', 'name': 'Fortune'}, 'author': 'David Meyer', 'title': \"That Bombshell Report on Trump's Taxes May Spark an Investigation by New York Tax Authorities\", 'description': 'A New York Times report suggesting tax fraud on the part of the Trump family may prompt an investigation by New York State tax authorities.', 'url': 'http://fortune.com/2018/10/03/nyt-trump-tax-fraud-investigation/', 'urlToImage': 'https://fortunedotcom.files.wordpress.com/2018/10/gettyimages-97336674.jpg', 'publishedAt': '2018-10-03T09:29:12Z', 'content': 'On Tuesday the New York Times dropped an investigative bombshell : President Donald Trump got at least $413 million from his father’s real estate empire, much of it through “dubious tax schemes…including instances of outright fraud.” If true, the allegations … [+3023 chars]'}, {'source': {'id': None, 'name': 'Wlwt.com'}, 'author': 'WLWT Digital Staff', 'title': 'Body of missing Cincinnati hiker found in Smoky Mountains after massive search', 'description': 'The search continues Sunday for a missing Cleves woman who was last seen hiking in the Smoky Mountains with her daughter on Tuesday, officials with the National Park Service say.', 'url': 'https://www.wlwt.com/article/search-continues-for-cleves-woman-who-disappeared-while-hiking-in-great-smoky-mountains-1538522682/23574073', 'urlToImage': 'https://hips.htvapps.com/htv-prod-media.s3.amazonaws.com/images/missing-woman-smoky-1538524170.jpg?crop=1.00xw:1.00xh;0,0&resize=1200:*', 'publishedAt': '2018-10-03T02:38:17Z', 'content': 'GATLINBURG, Tenn. — A Cincinnati woman who disappeared while hiking in Great Smoky Mountains National Park was found dead Tuesday afternoon, according to the park\\'s public affairs office. They said Mitzie Sue \"Susan\" Clements, 53, was found by search crews tw… [+4003 chars]'}, {'source': {'id': None, 'name': 'Bustle.com'}, 'author': 'Monica Busch', 'title': '4 \"Unite The Right\" Participants Have Been Charged In Connection With The Charlottesville Rally', 'description': 'More than one year after the violence in Charlottesville, a group of men are facing legal repercussions for laws allegedly broken as part of their participation in the white supremacist rally there in August of 2017, where one counter-protestor,…', 'url': 'https://www.bustle.com/p/4-unite-the-right-participants-have-been-charged-in-connection-with-the-charlottesville-rally-12131811', 'urlToImage': 'https://imgix.bustle.com/uploads/getty/2018/10/2/f6d98941-3f69-4a8e-a103-57e1c99682b5-getty-843485798.jpg?w=1200&h=630&q=70&fit=crop&crop=faces&fm=jpg', 'publishedAt': '2018-10-02T22:44:00Z', 'content': 'More than one year after the violence in Charlottesville, a group of men are facing legal repercussions for laws allegedly broken as part of their participation in the white supremacist rally there in August of 2017, where one counter-protestor, Heather Heyer… [+2895 chars]'}, {'source': {'id': None, 'name': 'Fastcompany.com'}, 'author': 'Harry McCracken', 'title': 'Microsoft retools its productivity vision for the era of tech distraction', 'description': 'Rather than grabbing your attention at will, Microsoft’s new Surface hardware and Windows features aim to help you focus on what matters.', 'url': 'https://www.fastcompany.com/90244763/microsoft-retools-its-productivity-vision-for-the-era-of-tech-distraction', 'urlToImage': 'https://images.fastcompany.net/image/upload/w_1280,f_auto,q_auto,fl_lossy/wp-cms/uploads/2018/10/p-1-panos-panay.jpg', 'publishedAt': '2018-10-02T21:02:32Z', 'content': '“I wish you were here with me, Harry, so I could hand the products to you. These really are products that you have to feel—and I don’t mean physically. I mean see, use, touch. And then you get a feeling for it.” Microsoft chief product officer Panos Panay is … [+8974 chars]'}]}\n"
     ]
    }
   ],
   "source": [
    "print( response.json())"
   ]
  },
  {
   "cell_type": "code",
   "execution_count": 5,
   "metadata": {},
   "outputs": [],
   "source": [
    "headlines = response.json()"
   ]
  },
  {
   "cell_type": "code",
   "execution_count": 6,
   "metadata": {},
   "outputs": [],
   "source": [
    "import numpy as np\n",
    "import pandas as pd"
   ]
  },
  {
   "cell_type": "code",
   "execution_count": 9,
   "metadata": {},
   "outputs": [
    {
     "name": "stdout",
     "output_type": "stream",
     "text": [
      "Help on dict object:\n",
      "\n",
      "class dict(object)\n",
      " |  dict() -> new empty dictionary\n",
      " |  dict(mapping) -> new dictionary initialized from a mapping object's\n",
      " |      (key, value) pairs\n",
      " |  dict(iterable) -> new dictionary initialized as if via:\n",
      " |      d = {}\n",
      " |      for k, v in iterable:\n",
      " |          d[k] = v\n",
      " |  dict(**kwargs) -> new dictionary initialized with the name=value pairs\n",
      " |      in the keyword argument list.  For example:  dict(one=1, two=2)\n",
      " |  \n",
      " |  Methods defined here:\n",
      " |  \n",
      " |  __contains__(self, key, /)\n",
      " |      True if D has a key k, else False.\n",
      " |  \n",
      " |  __delitem__(self, key, /)\n",
      " |      Delete self[key].\n",
      " |  \n",
      " |  __eq__(self, value, /)\n",
      " |      Return self==value.\n",
      " |  \n",
      " |  __ge__(self, value, /)\n",
      " |      Return self>=value.\n",
      " |  \n",
      " |  __getattribute__(self, name, /)\n",
      " |      Return getattr(self, name).\n",
      " |  \n",
      " |  __getitem__(...)\n",
      " |      x.__getitem__(y) <==> x[y]\n",
      " |  \n",
      " |  __gt__(self, value, /)\n",
      " |      Return self>value.\n",
      " |  \n",
      " |  __init__(self, /, *args, **kwargs)\n",
      " |      Initialize self.  See help(type(self)) for accurate signature.\n",
      " |  \n",
      " |  __iter__(self, /)\n",
      " |      Implement iter(self).\n",
      " |  \n",
      " |  __le__(self, value, /)\n",
      " |      Return self<=value.\n",
      " |  \n",
      " |  __len__(self, /)\n",
      " |      Return len(self).\n",
      " |  \n",
      " |  __lt__(self, value, /)\n",
      " |      Return self<value.\n",
      " |  \n",
      " |  __ne__(self, value, /)\n",
      " |      Return self!=value.\n",
      " |  \n",
      " |  __new__(*args, **kwargs) from builtins.type\n",
      " |      Create and return a new object.  See help(type) for accurate signature.\n",
      " |  \n",
      " |  __repr__(self, /)\n",
      " |      Return repr(self).\n",
      " |  \n",
      " |  __setitem__(self, key, value, /)\n",
      " |      Set self[key] to value.\n",
      " |  \n",
      " |  __sizeof__(...)\n",
      " |      D.__sizeof__() -> size of D in memory, in bytes\n",
      " |  \n",
      " |  clear(...)\n",
      " |      D.clear() -> None.  Remove all items from D.\n",
      " |  \n",
      " |  copy(...)\n",
      " |      D.copy() -> a shallow copy of D\n",
      " |  \n",
      " |  fromkeys(iterable, value=None, /) from builtins.type\n",
      " |      Returns a new dict with keys from iterable and values equal to value.\n",
      " |  \n",
      " |  get(...)\n",
      " |      D.get(k[,d]) -> D[k] if k in D, else d.  d defaults to None.\n",
      " |  \n",
      " |  items(...)\n",
      " |      D.items() -> a set-like object providing a view on D's items\n",
      " |  \n",
      " |  keys(...)\n",
      " |      D.keys() -> a set-like object providing a view on D's keys\n",
      " |  \n",
      " |  pop(...)\n",
      " |      D.pop(k[,d]) -> v, remove specified key and return the corresponding value.\n",
      " |      If key is not found, d is returned if given, otherwise KeyError is raised\n",
      " |  \n",
      " |  popitem(...)\n",
      " |      D.popitem() -> (k, v), remove and return some (key, value) pair as a\n",
      " |      2-tuple; but raise KeyError if D is empty.\n",
      " |  \n",
      " |  setdefault(...)\n",
      " |      D.setdefault(k[,d]) -> D.get(k,d), also set D[k]=d if k not in D\n",
      " |  \n",
      " |  update(...)\n",
      " |      D.update([E, ]**F) -> None.  Update D from dict/iterable E and F.\n",
      " |      If E is present and has a .keys() method, then does:  for k in E: D[k] = E[k]\n",
      " |      If E is present and lacks a .keys() method, then does:  for k, v in E: D[k] = v\n",
      " |      In either case, this is followed by: for k in F:  D[k] = F[k]\n",
      " |  \n",
      " |  values(...)\n",
      " |      D.values() -> an object providing a view on D's values\n",
      " |  \n",
      " |  ----------------------------------------------------------------------\n",
      " |  Data and other attributes defined here:\n",
      " |  \n",
      " |  __hash__ = None\n",
      "\n"
     ]
    }
   ],
   "source": [
    "help(headlines)"
   ]
  },
  {
   "cell_type": "code",
   "execution_count": 10,
   "metadata": {},
   "outputs": [
    {
     "data": {
      "text/plain": [
       "dict_keys(['status', 'totalResults', 'articles'])"
      ]
     },
     "execution_count": 10,
     "metadata": {},
     "output_type": "execute_result"
    }
   ],
   "source": [
    "headlines.keys()"
   ]
  },
  {
   "cell_type": "code",
   "execution_count": 11,
   "metadata": {},
   "outputs": [
    {
     "data": {
      "text/plain": [
       "20"
      ]
     },
     "execution_count": 11,
     "metadata": {},
     "output_type": "execute_result"
    }
   ],
   "source": [
    "len(headlines['articles'])"
   ]
  },
  {
   "cell_type": "code",
   "execution_count": 12,
   "metadata": {},
   "outputs": [
    {
     "data": {
      "text/plain": [
       "[{'source': {'id': 'the-wall-street-journal',\n",
       "   'name': 'The Wall Street Journal'},\n",
       "  'author': None,\n",
       "  'title': \"Honda to Invest $2.75 Billion in GM's Self-Driving Car Unit\",\n",
       "  'description': None,\n",
       "  'url': 'https://www.wsj.com/articles/honda-to-invest-in-gms-self-driving-car-unit-gm-cruise-1538569503',\n",
       "  'urlToImage': None,\n",
       "  'publishedAt': '2018-10-03T15:04:00Z',\n",
       "  'content': None},\n",
       " {'source': {'id': None, 'name': 'Globalnews.ca'},\n",
       "  'author': 'Rebecca Joseph',\n",
       "  'title': 'Pictures show just how close a Chinese warship came to a US Navy ship',\n",
       "  'description': 'A Chinese warship came dangerously close to a U.S. Navy ship in the South Chinese Sea, a move that was called “unsafe and unprofessional.”',\n",
       "  'url': 'https://globalnews.ca/news/4512521/south-china-sea-warship-us-navy/',\n",
       "  'urlToImage': 'https://shawglobalnews.files.wordpress.com/2018/10/19849282.jpg?quality=70&strip=all&w=720&h=480&crop=1',\n",
       "  'publishedAt': '2018-10-03T14:49:00Z',\n",
       "  'content': 'A Chinese warship came dangerously close to a U.S. Navy ship in the South China Sea last weekend, a move that was called “unsafe and unprofessional.” In pictures posted by the blog gCaptain, a blog dedicated to maritime professionals, the Chinese destroyer ca… [+2399 chars]'},\n",
       " {'source': {'id': None, 'name': 'Abc7ny.com'},\n",
       "  'author': None,\n",
       "  'title': 'National Weather Service confirms tornado touched down on Long Island',\n",
       "  'description': 'Officials said an EF1 tornado touched down in Stony Point, while an EF0 twister touched down in Ronkonkoma.',\n",
       "  'url': 'https://abc7ny.com/weather/nws-confirms-tornado-touched-down-on-long-island/4395262/',\n",
       "  'urlToImage': 'https://cdns.abclocal.go.com/content/wabc/images/cms/automation/vod/4400230_1280x720.jpg',\n",
       "  'publishedAt': '2018-10-03T14:33:00Z',\n",
       "  'content': 'The National Weather Service has confirmed that tornadoes touched down in Rockland County and on Long Island during torrential storms Tuesday. Officials said an EF1 tornado touched down in Stony Point, while an EF0 twister touched down in Ronkonkoma. The EF1 … [+1938 chars]'},\n",
       " {'source': {'id': None, 'name': 'Nola.com'},\n",
       "  'author': 'Carlie Kollath Wells',\n",
       "  'title': 'Hurricane forecasters tracking system in Caribbean',\n",
       "  'description': 'The system has a 30 percent chance of development.',\n",
       "  'url': 'https://www.nola.com/hurricane/index.ssf/2018/10/disturbance_caribbean_developm.html',\n",
       "  'urlToImage': 'https://image.nola.com/home/nola-media/width620/img/hurricane_impact/photo/24924906-standard.png',\n",
       "  'publishedAt': '2018-10-03T14:32:00Z',\n",
       "  'content': \"Hurricane forecasters on Wednesday morning (Oct. 3) were tracking a disturbance in the Caribbean. It has a 30 percent chance of developing into at least a tropical depression. The low pressure system doesn't pose an immediate threat to New Orleans, but foreca… [+1807 chars]\"},\n",
       " {'source': {'id': 'cnbc', 'name': 'CNBC'},\n",
       "  'author': 'Reuters',\n",
       "  'title': 'Brent crude steadies near $85 as Saudi raises oil output towards record',\n",
       "  'description': 'Oil slipped on Wednesday, retreating from session peaks near a four-year high as top exporter Saudi Arabia said it increased output.',\n",
       "  'url': 'https://www.cnbc.com/2018/10/03/oil-markets-us-crude-inventories-us-sanctions-on-iran-in-focus.html',\n",
       "  'urlToImage': 'https://fm.cnbc.com/applications/cnbc.com/resources/img/editorial/2018/06/04/105249216-RTX67GWW.1910x1000.jpg',\n",
       "  'publishedAt': '2018-10-03T14:29:55Z',\n",
       "  'content': 'Oil prices fell on Wednesday after government data showed a big jump in U.S. crude stockpiles and top exporter Saudi Arabia said it increased output to near a record high. Commercial crude stored in the United States rose by 8 million barrels in the week thro… [+773 chars]'},\n",
       " {'source': {'id': 'the-washington-post', 'name': 'The Washington Post'},\n",
       "  'author': None,\n",
       "  'title': \"'Just plain wrong': Flake, Collins criticize Trump for mocking Kavanaugh accuser at political rally\",\n",
       "  'description': 'Key figures in the Supreme Court confirmation battle spoke out the morning after the president’s most direct attack on Christine Blasey Ford.',\n",
       "  'url': 'https://www.washingtonpost.com/politics/flake-says-trumps-mocking-of-ford-at-political-rally-was-kind-of-appalling/2018/10/03/286c3dba-c6f4-11e8-b1ed-1d2d65b86d0c_story.html',\n",
       "  'urlToImage': 'https://www.washingtonpost.com/resizer/3bEteLDy__d24Yd9Hc5FRkaiwYY=/1484x0/arc-anglerfish-washpost-prod-washpost.s3.amazonaws.com/public/HL45HLGG6QI6RMPNDUWWLODNBQ.jpg',\n",
       "  'publishedAt': '2018-10-03T14:22:16Z',\n",
       "  'content': 'Two senators considered crucial to the confirmation prospects of Judge Brett M. Kavanaugh criticized President Trump on Wednesday for mocking the account of a woman who has accused his Supreme Court nominee of sexual assault decades ago. “There’s no time and … [+7337 chars]'},\n",
       " {'source': {'id': 'usa-today', 'name': 'USA Today'},\n",
       "  'author': 'Ledyard King',\n",
       "  'title': 'That FEMA alert coming to your phone Wednesday is not a text from President Trump. What you need to know',\n",
       "  'description': 'The Federal Emergency Management Agency (FEMA) is conducting\\xa0a nationwide test of its Wireless Emergency Alerts (WEA), similar to the ones conducted on radio and television. This will be the\\xa0first national\\xa0test of the cellphone alerts.',\n",
       "  'url': 'https://www.usatoday.com/story/news/politics/2018/10/02/cell-phones-national-alert-message/1497875002/',\n",
       "  'urlToImage': 'https://www.gannett-cdn.com/presto/2018/10/01/PPHX/9dd7ad3a-c167-4738-a17b-16eb5112a176-wea_test_graphic_phone_only_081018.png?crop=524,298,x0,y44&width=3200&height=1680&fit=bounds',\n",
       "  'publishedAt': '2018-10-03T14:21:22Z',\n",
       "  'content': 'The Federal Emergency Management Agency will conduct a test of the national alert system that allows \"presidential alerts\" to hit the majority of cellphones. USA TODAY Photo of what the Presidential Alert will look like (Photo: FEMA) WASHINGTON – Millions of … [+1939 chars]'},\n",
       " {'source': {'id': 'the-new-york-times', 'name': 'The New York Times'},\n",
       "  'author': None,\n",
       "  'title': 'Where Indonesia Quake Turned Ground to Jelly, People and Homes Are Unaccounted For',\n",
       "  'description': 'In one part of Palu, hundreds of buildings flowed sideways before being buried. Only now has heavy equipment been brought in to the search for the missing.',\n",
       "  'url': 'https://www.nytimes.com/2018/10/03/world/asia/indonesia-earthquake-tsunami-liquefaction.html',\n",
       "  'urlToImage': 'https://static01.nyt.com/images/2018/10/03/world/03tsunami-1-sub/03tsunami-1-sub-facebookJumbo.jpg',\n",
       "  'publishedAt': '2018-10-03T14:15:00Z',\n",
       "  'content': 'In the subdistrict of Baladonda, south of Donggala, some young men aggressively sought “donations” from passing motorists. One driver handed over a box of instant noodles. The next coughed up a box of drinking water. Others got past by donating money. Back in… [+765 chars]'},\n",
       " {'source': {'id': None, 'name': 'Cbssports.com'},\n",
       "  'author': '',\n",
       "  'title': \"NL Wild Card Game: How Kyle Freeland and the Rockies neutralized one of the Cubs' most dangerous hitters\",\n",
       "  'description': 'It almost seemed as if the young Colorado native saved his nastiest stuff for Kris Bryant',\n",
       "  'url': 'https://www.cbssports.com/mlb/news/nl-wild-card-game-how-kyle-freeland-and-the-rockies-neutralized-one-of-the-cubs-most-dangerous-hitters/',\n",
       "  'urlToImage': 'https://sportshub.cbsistatic.com/i/r/2018/10/03/c372672e-ed0f-49e9-94ef-7f8b552e3019/thumbnail/770x433/2bb6fa1a2776ab1c188b3fd4afc5232f/kyle-freeland-rockies.jpg',\n",
       "  'publishedAt': '2018-10-03T13:21:00Z',\n",
       "  'content': \"In a game that featured a passel of defensive gems, a perfectly-timed mad dash, an unlikely hero, and some of the most impeccable, pinpoint pitching you'll ever see, the Colorado Rockies beat the Chicago Cubs 2-1, winning the longest playoff game in the 104-y… [+8012 chars]\"},\n",
       " {'source': {'id': None, 'name': 'Bbc.com'},\n",
       "  'author': 'https://www.facebook.com/bbcnews',\n",
       "  'title': 'Melania Trump, US first lady, visits Ghana slave fort',\n",
       "  'description': 'The US first lady, on her first visit to Africa, says the slave trade was \"really a tragedy\".',\n",
       "  'url': 'https://www.bbc.com/news/world-africa-45734901',\n",
       "  'urlToImage': 'https://ichef.bbci.co.uk/news/1024/branded_news/1192A/production/_103687917_8d7948df-4aae-43e2-97fb-95229c7bff38.jpg',\n",
       "  'publishedAt': '2018-10-03T13:19:37Z',\n",
       "  'content': 'Image copyright Daily Graphic Image caption Melania Trump paid a courtesy call on the local chief Osabarimba Kwesi Atta II before visiting the fort US First Lady Melania Trump has visited a former slave fort in Ghana on the second day of her solo trip to Afri… [+5903 chars]'},\n",
       " {'source': {'id': None, 'name': 'Smithsonianmag.com'},\n",
       "  'author': 'Meilan Solly',\n",
       "  'title': \"Three Evolutionary Scientists Share This Year's Nobel Prize in Chemistry\",\n",
       "  'description': 'Frances Arnold, George Smith and Gregory Winter employed principles seen in evolution to develop proteins that tackle global chemical problems',\n",
       "  'url': 'https://www.smithsonianmag.com/smart-news/three-evolutionary-scientists-share-years-nobel-prize-chemistry-180970453/',\n",
       "  'urlToImage': 'https://thumbs-prod.si-cdn.com/bkWQ9oADxNulp8yfQXvlduvRqS4=/1072x720/filters:no_upscale()/https://public-media.smithsonianmag.com/filer/03/61/03616f34-2a53-4503-964f-9036126222ba/nobel1.jpg',\n",
       "  'publishedAt': '2018-10-03T13:13:50Z',\n",
       "  'content': 'This year’s Nobel Prize in Chemistry was awarded to three researchers whose pioneering work with proteins has, in the words of one committee member, “applied the principles of Darwin in the test tube.” Frances H. Arnold of the California Institute of Technolo… [+6119 chars]'},\n",
       " {'source': {'id': 'cbs-news', 'name': 'CBS News'},\n",
       "  'author': 'CBS/AP',\n",
       "  'title': 'Washington Post columnist goes missing at Turkey consulate as fiancée waits outside',\n",
       "  'description': 'The Post said the journalist\\'s friends were worried \"after losing contact with him\" Tuesday following his visit to the consulate',\n",
       "  'url': 'https://www.cbsnews.com/news/jamal-khashoggi-washington-post-saudi-writer-missing-in-turkey-today-2018-10-03/',\n",
       "  'urlToImage': 'https://cbsnews2.cbsistatic.com/hub/i/r/2018/10/03/21a2097d-802f-48ad-9bf4-ed0f53ee91ed/thumbnail/1200x630/f5dc9326d4f95c884a5553ec0c52b061/saudi-writer-ap-18276106181315.jpg',\n",
       "  'publishedAt': '2018-10-03T12:15:00Z',\n",
       "  'content': \"DUBAI, United Arab Emirates -- A Saudi journalist who has written Washington Post columns critical of the kingdom's assertive crown prince has gone missing after visiting the Saudi Consulate in Istanbul, the newspaper said Wednesday, raising concerns over his… [+4215 chars]\"},\n",
       " {'source': {'id': None, 'name': 'Syracuse.com'},\n",
       "  'author': 'Kevin Tampone | ktampone@syracuse.com',\n",
       "  'title': 'Toys R Us revival? New, re-imagined stores are possible',\n",
       "  'description': 'Toys R Us decided to close all 800 U.S. stores earlier this year.',\n",
       "  'url': 'https://www.syracuse.com/business-news/index.ssf/2018/10/toys_r_us_revival_comeback.html',\n",
       "  'urlToImage': 'https://image.syracuse.com/home/syr-media/width620/img/business-impact/photo/24400380-standard.jpg',\n",
       "  'publishedAt': '2018-10-03T11:49:00Z',\n",
       "  'content': \"Toys R Us could be making a comeback from bankruptcy Under a new plan, the business would be revived behind the Toys R Us and Babies R Us brand names, according to The Wall Street Journal. As a result, a bankruptcy auction for the company's intellectual prope… [+1418 chars]\"},\n",
       " {'source': {'id': 'cbs-news', 'name': 'CBS News'},\n",
       "  'author': 'CBS News',\n",
       "  'title': 'Clergy abuse left off agenda as pope opens Vatican youth meeting',\n",
       "  'description': 'A month-long meeting geared at attracting young people back to the church gets underway',\n",
       "  'url': 'https://www.cbsnews.com/news/vatican-youth-meeting-clergy-abuse-left-off-agenda-today-2018-10-03/',\n",
       "  'urlToImage': 'https://cbsnews2.cbsistatic.com/hub/i/r/2018/09/16/34b83e8f-8cd4-4041-ba99-c41445866548/thumbnail/1200x630g2/088f497f5dc8ad52342a677638488b3f/2018-09-15t164443z-208098092-rc1867c5b3d0-rtrmadp-3-pope-sicily.jpg',\n",
       "  'publishedAt': '2018-10-03T11:21:00Z',\n",
       "  'content': 'A month-long meeting of Catholic bishops from around the world gets underway Wednesday at the Vatican. Pope Francis opened the meeting Wednesday morning, which is designed to attract the young back to the church. Even before it began, the meeting faced critic… [+1572 chars]'},\n",
       " {'source': {'id': 'the-washington-post', 'name': 'The Washington Post'},\n",
       "  'author': 'https://www.facebook.com/erinmichellecunningham',\n",
       "  'title': \"United Nations' court rules US must allow humanitarian trade with Iran\",\n",
       "  'description': 'The ruling by the International Court of Justice, while binding but not enforceable, is still a symbolic victory for Tehran.',\n",
       "  'url': 'https://www.washingtonpost.com/world/united-nations-court-rules-us-must-allow-humanitarian-trade-with-iran/2018/10/03/a745e9bb-12d5-4281-8fcd-929badadaef0_story.html',\n",
       "  'urlToImage': 'https://www.washingtonpost.com/resizer/r78ukDRyJCZH7QgXRREWR7SA0iQ=/1484x0/arc-anglerfish-washpost-prod-washpost.s3.amazonaws.com/public/QI2Q4VGG7UI6RMPNDUWWLODNBQ.jpg',\n",
       "  'publishedAt': '2018-10-03T11:14:19Z',\n",
       "  'content': 'ISTANBUL — The United Nations’ highest court Wednesday ordered the United States to remove any restrictions on the export of humanitarian goods and services to Iran, granting Tehran a diplomatic victory after it challenged new U.S. sanctions in July. The inte… [+4478 chars]'},\n",
       " {'source': {'id': 'reuters', 'name': 'Reuters'},\n",
       "  'author': 'Sanjeev Miglani',\n",
       "  'title': 'India risks US sanctions with $5-billion purchase of Russian missiles',\n",
       "  'description': \"The United States has warned India against a planned purchase of S-400 surface-to-air missiles from Russia when President Vladimir Putin's visits New Delhi this week, saying such an acquisition would attract sanctions under U.S. law.\",\n",
       "  'url': 'https://www.reuters.com/article/us-india-russia/india-risks-u-s-sanctions-with-5-billion-purchase-of-russian-missiles-idUSKCN1MD18K',\n",
       "  'urlToImage': 'https://s3.reutersmedia.net/resources/r/?m=02&d=20181003&t=2&i=1310786737&w=1200&r=LYNXNPEE920T7',\n",
       "  'publishedAt': '2018-10-03T11:06:18Z',\n",
       "  'content': 'NEW DELHI/WASHINGTON (Reuters) - The United States has warned India against a planned purchase of S-400 surface-to-air missiles from Russia when President Vladimir Putin’s visits New Delhi this week, saying such an acquisition would attract sanctions under U.… [+3384 chars]'},\n",
       " {'source': {'id': 'fortune', 'name': 'Fortune'},\n",
       "  'author': 'David Meyer',\n",
       "  'title': \"That Bombshell Report on Trump's Taxes May Spark an Investigation by New York Tax Authorities\",\n",
       "  'description': 'A New York Times report suggesting tax fraud on the part of the Trump family may prompt an investigation by New York State tax authorities.',\n",
       "  'url': 'http://fortune.com/2018/10/03/nyt-trump-tax-fraud-investigation/',\n",
       "  'urlToImage': 'https://fortunedotcom.files.wordpress.com/2018/10/gettyimages-97336674.jpg',\n",
       "  'publishedAt': '2018-10-03T09:29:12Z',\n",
       "  'content': 'On Tuesday the New York Times dropped an investigative bombshell : President Donald Trump got at least $413 million from his father’s real estate empire, much of it through “dubious tax schemes…including instances of outright fraud.” If true, the allegations … [+3023 chars]'},\n",
       " {'source': {'id': None, 'name': 'Wlwt.com'},\n",
       "  'author': 'WLWT Digital Staff',\n",
       "  'title': 'Body of missing Cincinnati hiker found in Smoky Mountains after massive search',\n",
       "  'description': 'The search continues Sunday for a missing Cleves woman who was last seen hiking in the Smoky Mountains with her daughter on Tuesday, officials with the National Park Service say.',\n",
       "  'url': 'https://www.wlwt.com/article/search-continues-for-cleves-woman-who-disappeared-while-hiking-in-great-smoky-mountains-1538522682/23574073',\n",
       "  'urlToImage': 'https://hips.htvapps.com/htv-prod-media.s3.amazonaws.com/images/missing-woman-smoky-1538524170.jpg?crop=1.00xw:1.00xh;0,0&resize=1200:*',\n",
       "  'publishedAt': '2018-10-03T02:38:17Z',\n",
       "  'content': 'GATLINBURG, Tenn. — A Cincinnati woman who disappeared while hiking in Great Smoky Mountains National Park was found dead Tuesday afternoon, according to the park\\'s public affairs office. They said Mitzie Sue \"Susan\" Clements, 53, was found by search crews tw… [+4003 chars]'},\n",
       " {'source': {'id': None, 'name': 'Bustle.com'},\n",
       "  'author': 'Monica Busch',\n",
       "  'title': '4 \"Unite The Right\" Participants Have Been Charged In Connection With The Charlottesville Rally',\n",
       "  'description': 'More than one year after the violence in Charlottesville, a group of men are facing legal repercussions for laws allegedly broken as part of their participation in the white supremacist rally there in August of 2017, where one counter-protestor,…',\n",
       "  'url': 'https://www.bustle.com/p/4-unite-the-right-participants-have-been-charged-in-connection-with-the-charlottesville-rally-12131811',\n",
       "  'urlToImage': 'https://imgix.bustle.com/uploads/getty/2018/10/2/f6d98941-3f69-4a8e-a103-57e1c99682b5-getty-843485798.jpg?w=1200&h=630&q=70&fit=crop&crop=faces&fm=jpg',\n",
       "  'publishedAt': '2018-10-02T22:44:00Z',\n",
       "  'content': 'More than one year after the violence in Charlottesville, a group of men are facing legal repercussions for laws allegedly broken as part of their participation in the white supremacist rally there in August of 2017, where one counter-protestor, Heather Heyer… [+2895 chars]'},\n",
       " {'source': {'id': None, 'name': 'Fastcompany.com'},\n",
       "  'author': 'Harry McCracken',\n",
       "  'title': 'Microsoft retools its productivity vision for the era of tech distraction',\n",
       "  'description': 'Rather than grabbing your attention at will, Microsoft’s new Surface hardware and Windows features aim to help you focus on what matters.',\n",
       "  'url': 'https://www.fastcompany.com/90244763/microsoft-retools-its-productivity-vision-for-the-era-of-tech-distraction',\n",
       "  'urlToImage': 'https://images.fastcompany.net/image/upload/w_1280,f_auto,q_auto,fl_lossy/wp-cms/uploads/2018/10/p-1-panos-panay.jpg',\n",
       "  'publishedAt': '2018-10-02T21:02:32Z',\n",
       "  'content': '“I wish you were here with me, Harry, so I could hand the products to you. These really are products that you have to feel—and I don’t mean physically. I mean see, use, touch. And then you get a feeling for it.” Microsoft chief product officer Panos Panay is … [+8974 chars]'}]"
      ]
     },
     "execution_count": 12,
     "metadata": {},
     "output_type": "execute_result"
    }
   ],
   "source": [
    "headlines['articles']"
   ]
  },
  {
   "cell_type": "code",
   "execution_count": 13,
   "metadata": {},
   "outputs": [
    {
     "data": {
      "text/plain": [
       "{'source': {'id': None, 'name': 'Smithsonianmag.com'},\n",
       " 'author': 'Meilan Solly',\n",
       " 'title': \"Three Evolutionary Scientists Share This Year's Nobel Prize in Chemistry\",\n",
       " 'description': 'Frances Arnold, George Smith and Gregory Winter employed principles seen in evolution to develop proteins that tackle global chemical problems',\n",
       " 'url': 'https://www.smithsonianmag.com/smart-news/three-evolutionary-scientists-share-years-nobel-prize-chemistry-180970453/',\n",
       " 'urlToImage': 'https://thumbs-prod.si-cdn.com/bkWQ9oADxNulp8yfQXvlduvRqS4=/1072x720/filters:no_upscale()/https://public-media.smithsonianmag.com/filer/03/61/03616f34-2a53-4503-964f-9036126222ba/nobel1.jpg',\n",
       " 'publishedAt': '2018-10-03T13:13:50Z',\n",
       " 'content': 'This year’s Nobel Prize in Chemistry was awarded to three researchers whose pioneering work with proteins has, in the words of one committee member, “applied the principles of Darwin in the test tube.” Frances H. Arnold of the California Institute of Technolo… [+6119 chars]'}"
      ]
     },
     "execution_count": 13,
     "metadata": {},
     "output_type": "execute_result"
    }
   ],
   "source": [
    "headlines['articles'][10]"
   ]
  },
  {
   "cell_type": "code",
   "execution_count": 14,
   "metadata": {
    "scrolled": true
   },
   "outputs": [
    {
     "data": {
      "text/plain": [
       "'Pictures show just how close a Chinese warship came to a US Navy ship'"
      ]
     },
     "execution_count": 14,
     "metadata": {},
     "output_type": "execute_result"
    }
   ],
   "source": [
    "headlines['articles'][1]['title']"
   ]
  },
  {
   "cell_type": "code",
   "execution_count": 15,
   "metadata": {},
   "outputs": [],
   "source": [
    "step_1 = headlines['articles'][0]"
   ]
  },
  {
   "cell_type": "code",
   "execution_count": 16,
   "metadata": {},
   "outputs": [
    {
     "data": {
      "text/plain": [
       "\"Honda to Invest $2.75 Billion in GM's Self-Driving Car Unit\""
      ]
     },
     "execution_count": 16,
     "metadata": {},
     "output_type": "execute_result"
    }
   ],
   "source": [
    "step_1['title']"
   ]
  },
  {
   "cell_type": "code",
   "execution_count": 17,
   "metadata": {
    "scrolled": true
   },
   "outputs": [
    {
     "data": {
      "text/plain": [
       "dict_keys(['source', 'author', 'title', 'description', 'url', 'urlToImage', 'publishedAt', 'content'])"
      ]
     },
     "execution_count": 17,
     "metadata": {},
     "output_type": "execute_result"
    }
   ],
   "source": [
    "step_1.keys()"
   ]
  },
  {
   "cell_type": "code",
   "execution_count": 18,
   "metadata": {
    "scrolled": false
   },
   "outputs": [
    {
     "ename": "AttributeError",
     "evalue": "'list' object has no attribute 'keys'",
     "output_type": "error",
     "traceback": [
      "\u001b[0;31m---------------------------------------------------------------------------\u001b[0m",
      "\u001b[0;31mAttributeError\u001b[0m                            Traceback (most recent call last)",
      "\u001b[0;32m<ipython-input-18-9079c9aeb22e>\u001b[0m in \u001b[0;36m<module>\u001b[0;34m\u001b[0m\n\u001b[0;32m----> 1\u001b[0;31m \u001b[0mheadlines\u001b[0m\u001b[0;34m[\u001b[0m\u001b[0;34m'articles'\u001b[0m\u001b[0;34m]\u001b[0m\u001b[0;34m.\u001b[0m\u001b[0mkeys\u001b[0m\u001b[0;34m(\u001b[0m\u001b[0;34m)\u001b[0m\u001b[0;34m\u001b[0m\u001b[0m\n\u001b[0m",
      "\u001b[0;31mAttributeError\u001b[0m: 'list' object has no attribute 'keys'"
     ]
    }
   ],
   "source": [
    "headlines['articles'].keys()"
   ]
  },
  {
   "cell_type": "code",
   "execution_count": 19,
   "metadata": {},
   "outputs": [],
   "source": [
    "practice_pull = pd.DataFrame(headlines['articles'])"
   ]
  },
  {
   "cell_type": "code",
   "execution_count": 20,
   "metadata": {},
   "outputs": [
    {
     "data": {
      "text/html": [
       "<div>\n",
       "<style scoped>\n",
       "    .dataframe tbody tr th:only-of-type {\n",
       "        vertical-align: middle;\n",
       "    }\n",
       "\n",
       "    .dataframe tbody tr th {\n",
       "        vertical-align: top;\n",
       "    }\n",
       "\n",
       "    .dataframe thead th {\n",
       "        text-align: right;\n",
       "    }\n",
       "</style>\n",
       "<table border=\"1\" class=\"dataframe\">\n",
       "  <thead>\n",
       "    <tr style=\"text-align: right;\">\n",
       "      <th></th>\n",
       "      <th>author</th>\n",
       "      <th>content</th>\n",
       "      <th>description</th>\n",
       "      <th>publishedAt</th>\n",
       "      <th>source</th>\n",
       "      <th>title</th>\n",
       "      <th>url</th>\n",
       "      <th>urlToImage</th>\n",
       "    </tr>\n",
       "  </thead>\n",
       "  <tbody>\n",
       "    <tr>\n",
       "      <th>12</th>\n",
       "      <td>Kevin Tampone | ktampone@syracuse.com</td>\n",
       "      <td>Toys R Us could be making a comeback from bank...</td>\n",
       "      <td>Toys R Us decided to close all 800 U.S. stores...</td>\n",
       "      <td>2018-10-03T11:49:00Z</td>\n",
       "      <td>{'id': None, 'name': 'Syracuse.com'}</td>\n",
       "      <td>Toys R Us revival? New, re-imagined stores are...</td>\n",
       "      <td>https://www.syracuse.com/business-news/index.s...</td>\n",
       "      <td>https://image.syracuse.com/home/syr-media/widt...</td>\n",
       "    </tr>\n",
       "    <tr>\n",
       "      <th>19</th>\n",
       "      <td>Harry McCracken</td>\n",
       "      <td>“I wish you were here with me, Harry, so I cou...</td>\n",
       "      <td>Rather than grabbing your attention at will, M...</td>\n",
       "      <td>2018-10-02T21:02:32Z</td>\n",
       "      <td>{'id': None, 'name': 'Fastcompany.com'}</td>\n",
       "      <td>Microsoft retools its productivity vision for ...</td>\n",
       "      <td>https://www.fastcompany.com/90244763/microsoft...</td>\n",
       "      <td>https://images.fastcompany.net/image/upload/w_...</td>\n",
       "    </tr>\n",
       "    <tr>\n",
       "      <th>2</th>\n",
       "      <td>None</td>\n",
       "      <td>The National Weather Service has confirmed tha...</td>\n",
       "      <td>Officials said an EF1 tornado touched down in ...</td>\n",
       "      <td>2018-10-03T14:33:00Z</td>\n",
       "      <td>{'id': None, 'name': 'Abc7ny.com'}</td>\n",
       "      <td>National Weather Service confirms tornado touc...</td>\n",
       "      <td>https://abc7ny.com/weather/nws-confirms-tornad...</td>\n",
       "      <td>https://cdns.abclocal.go.com/content/wabc/imag...</td>\n",
       "    </tr>\n",
       "    <tr>\n",
       "      <th>6</th>\n",
       "      <td>Ledyard King</td>\n",
       "      <td>The Federal Emergency Management Agency will c...</td>\n",
       "      <td>The Federal Emergency Management Agency (FEMA)...</td>\n",
       "      <td>2018-10-03T14:21:22Z</td>\n",
       "      <td>{'id': 'usa-today', 'name': 'USA Today'}</td>\n",
       "      <td>That FEMA alert coming to your phone Wednesday...</td>\n",
       "      <td>https://www.usatoday.com/story/news/politics/2...</td>\n",
       "      <td>https://www.gannett-cdn.com/presto/2018/10/01/...</td>\n",
       "    </tr>\n",
       "    <tr>\n",
       "      <th>18</th>\n",
       "      <td>Monica Busch</td>\n",
       "      <td>More than one year after the violence in Charl...</td>\n",
       "      <td>More than one year after the violence in Charl...</td>\n",
       "      <td>2018-10-02T22:44:00Z</td>\n",
       "      <td>{'id': None, 'name': 'Bustle.com'}</td>\n",
       "      <td>4 \"Unite The Right\" Participants Have Been Cha...</td>\n",
       "      <td>https://www.bustle.com/p/4-unite-the-right-par...</td>\n",
       "      <td>https://imgix.bustle.com/uploads/getty/2018/10...</td>\n",
       "    </tr>\n",
       "  </tbody>\n",
       "</table>\n",
       "</div>"
      ],
      "text/plain": [
       "                                   author  \\\n",
       "12  Kevin Tampone | ktampone@syracuse.com   \n",
       "19                        Harry McCracken   \n",
       "2                                    None   \n",
       "6                            Ledyard King   \n",
       "18                           Monica Busch   \n",
       "\n",
       "                                              content  \\\n",
       "12  Toys R Us could be making a comeback from bank...   \n",
       "19  “I wish you were here with me, Harry, so I cou...   \n",
       "2   The National Weather Service has confirmed tha...   \n",
       "6   The Federal Emergency Management Agency will c...   \n",
       "18  More than one year after the violence in Charl...   \n",
       "\n",
       "                                          description           publishedAt  \\\n",
       "12  Toys R Us decided to close all 800 U.S. stores...  2018-10-03T11:49:00Z   \n",
       "19  Rather than grabbing your attention at will, M...  2018-10-02T21:02:32Z   \n",
       "2   Officials said an EF1 tornado touched down in ...  2018-10-03T14:33:00Z   \n",
       "6   The Federal Emergency Management Agency (FEMA)...  2018-10-03T14:21:22Z   \n",
       "18  More than one year after the violence in Charl...  2018-10-02T22:44:00Z   \n",
       "\n",
       "                                      source  \\\n",
       "12      {'id': None, 'name': 'Syracuse.com'}   \n",
       "19   {'id': None, 'name': 'Fastcompany.com'}   \n",
       "2         {'id': None, 'name': 'Abc7ny.com'}   \n",
       "6   {'id': 'usa-today', 'name': 'USA Today'}   \n",
       "18        {'id': None, 'name': 'Bustle.com'}   \n",
       "\n",
       "                                                title  \\\n",
       "12  Toys R Us revival? New, re-imagined stores are...   \n",
       "19  Microsoft retools its productivity vision for ...   \n",
       "2   National Weather Service confirms tornado touc...   \n",
       "6   That FEMA alert coming to your phone Wednesday...   \n",
       "18  4 \"Unite The Right\" Participants Have Been Cha...   \n",
       "\n",
       "                                                  url  \\\n",
       "12  https://www.syracuse.com/business-news/index.s...   \n",
       "19  https://www.fastcompany.com/90244763/microsoft...   \n",
       "2   https://abc7ny.com/weather/nws-confirms-tornad...   \n",
       "6   https://www.usatoday.com/story/news/politics/2...   \n",
       "18  https://www.bustle.com/p/4-unite-the-right-par...   \n",
       "\n",
       "                                           urlToImage  \n",
       "12  https://image.syracuse.com/home/syr-media/widt...  \n",
       "19  https://images.fastcompany.net/image/upload/w_...  \n",
       "2   https://cdns.abclocal.go.com/content/wabc/imag...  \n",
       "6   https://www.gannett-cdn.com/presto/2018/10/01/...  \n",
       "18  https://imgix.bustle.com/uploads/getty/2018/10...  "
      ]
     },
     "execution_count": 20,
     "metadata": {},
     "output_type": "execute_result"
    }
   ],
   "source": [
    "practice_pull.sample(5)"
   ]
  },
  {
   "cell_type": "code",
   "execution_count": 21,
   "metadata": {},
   "outputs": [],
   "source": [
    "# def query_pushshift(subreddit, kind='submission', skip=2, times=150, \n",
    "#                     subfield = ['title', 'selftext', 'subreddit', 'created_utc', 'author', 'num_comments', 'score', 'is_self']):\n",
    "\n",
    "#     stem = \"https://api.pushshift.io/reddit/search/{}/?subreddit={}&size=500\".format(kind, subreddit)\n",
    "#     mylist = []\n",
    "    \n",
    "#     for x in range(1, times):\n",
    "        \n",
    "#         URL = \"{}&after={}d\".format(stem, skip * x)\n",
    "#         print(URL)\n",
    "#         response = requests.get(URL)\n",
    "#         assert response.status_code == 200\n",
    "#         mine = response.json()['data']\n",
    "#         df = pd.DataFrame.from_dict(mine)\n",
    "#         mylist.append(df)\n",
    "#         time.sleep(0.25)\n",
    "        \n",
    "#     full = pd.concat(mylist)\n",
    "    \n",
    "#     if kind == \"submission\":\n",
    "        \n",
    "#         full = full[subfield]\n",
    "        \n",
    "#         full = full.drop_duplicates()\n",
    "        \n",
    "#         full = full.loc[full['is_self'] == True]\n",
    "        \n",
    "#     def get_date(created):\n",
    "#         return dt.date.fromtimestamp(created)\n",
    "    \n",
    "#     _timestamp = full[\"created_utc\"].apply(get_date)\n",
    "    \n",
    "#     full['timestamp'] = _timestamp\n",
    "\n",
    "#     print(full.shape)\n",
    "    \n",
    "#     return full "
   ]
  },
  {
   "cell_type": "code",
   "execution_count": 22,
   "metadata": {},
   "outputs": [],
   "source": [
    "weather_url = ('https://newsapi.org/v2/top-headlines?'\n",
    "       'country=us&'\n",
    "       'q=weather&'\n",
    "       'apiKey=cded74bf8ca34ad5ae851465e5ed179f')"
   ]
  },
  {
   "cell_type": "code",
   "execution_count": 23,
   "metadata": {},
   "outputs": [],
   "source": [
    "response_weather = requests.get(weather_url)"
   ]
  },
  {
   "cell_type": "code",
   "execution_count": 24,
   "metadata": {},
   "outputs": [
    {
     "name": "stdout",
     "output_type": "stream",
     "text": [
      "{'status': 'ok', 'totalResults': 1, 'articles': [{'source': {'id': None, 'name': 'Abc7ny.com'}, 'author': None, 'title': 'National Weather Service confirms tornado touched down on Long Island', 'description': 'Officials said an EF1 tornado touched down in Stony Point, while an EF0 twister touched down in Ronkonkoma.', 'url': 'https://abc7ny.com/weather/nws-confirms-tornado-touched-down-on-long-island/4395262/', 'urlToImage': 'https://cdns.abclocal.go.com/content/wabc/images/cms/automation/vod/4400230_1280x720.jpg', 'publishedAt': '2018-10-03T14:33:00Z', 'content': 'The National Weather Service has confirmed that tornadoes touched down in Rockland County and on Long Island during torrential storms Tuesday. Officials said an EF1 tornado touched down in Stony Point, while an EF0 twister touched down in Ronkonkoma. The EF1 … [+1938 chars]'}]}\n"
     ]
    }
   ],
   "source": [
    "print(response_weather.json()) #time12:14"
   ]
  },
  {
   "cell_type": "code",
   "execution_count": 43,
   "metadata": {},
   "outputs": [],
   "source": [
    "weather_url = ('https://newsapi.org/v2/top-headlines?'\n",
    "       'country=us&'\n",
    "       'q=weather&'\n",
    "       'apiKey=cded74bf8ca34ad5ae851465e5ed179f')"
   ]
  },
  {
   "cell_type": "code",
   "execution_count": 44,
   "metadata": {},
   "outputs": [
    {
     "name": "stdout",
     "output_type": "stream",
     "text": [
      "{'status': 'ok', 'totalResults': 0, 'articles': []}\n"
     ]
    }
   ],
   "source": [
    "response_weather = requests.get(weather_url)\n",
    "print(response_weather.json())        #time 4:57pm"
   ]
  },
  {
   "cell_type": "code",
   "execution_count": null,
   "metadata": {},
   "outputs": [],
   "source": []
  }
 ],
 "metadata": {
  "kernelspec": {
   "display_name": "Python 3",
   "language": "python",
   "name": "python3"
  },
  "language_info": {
   "codemirror_mode": {
    "name": "ipython",
    "version": 3
   },
   "file_extension": ".py",
   "mimetype": "text/x-python",
   "name": "python",
   "nbconvert_exporter": "python",
   "pygments_lexer": "ipython3",
   "version": "3.6.5"
  }
 },
 "nbformat": 4,
 "nbformat_minor": 2
}
