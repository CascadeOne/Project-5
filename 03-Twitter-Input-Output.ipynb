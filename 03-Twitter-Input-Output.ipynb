{
 "cells": [
  {
   "cell_type": "markdown",
   "metadata": {},
   "source": [
    "# Import Libraries"
   ]
  },
  {
   "cell_type": "code",
   "execution_count": 3,
   "metadata": {},
   "outputs": [],
   "source": [
    "import pandas as pd\n",
    "import regex as re\n",
    "import twitter\n",
    "import nltk\n",
    "from nltk.tokenize import RegexpTokenizer \n",
    "\n",
    "pd.set_option('display.max_columns', 500)\n",
    "pd.set_option('display.max_rows', 500)\n",
    "pd.set_option('display.max_colwidth', -1)\n",
    "\n",
    "#put in all 4 keys and token via twitter --> you will need to put in your own\n",
    "consumer_key='mz0i3X2LVYuLGTDTrFBjNKTmP'\n",
    "consumer_secret='ocmdo8sVOAriRaL4MVPRVa5wzGrkSr4BOnCyAdYawGlXRje4VN'\n",
    "access_token_key='581353008-EzGKHiZbG2EuXb8lzLSWBnD1q6woN9uCluHv02qb'\n",
    "access_token_secret='ycpvlXOXa97Lqu0n9wIQSRmkD768cINOMmrrHCmDVAEbm'\n",
    "\n",
    "api = twitter.Api(consumer_key, consumer_secret, access_token_key, access_token_secret)"
   ]
  },
  {
   "cell_type": "code",
   "execution_count": 12,
   "metadata": {},
   "outputs": [],
   "source": [
    "def twitter_in(event=None, keywords=None):\n",
    "        #create query search string\n",
    "        query = str(event)\n",
    "        query = (''.join(str(word)+'&' for word in keywords)+query)\n",
    "        \n",
    "        #scrape twitter w/query string, returns json\n",
    "        tweets = api.GetSearch(raw_query=\"q=\"+query+\"=typd&lang=en\", return_json=True)\n",
    "        \n",
    "        #make in df\n",
    "        df = pd.DataFrame(tweets['statuses'])\n",
    "        \n",
    "        #pull out the urls\n",
    "        #creates blank list\n",
    "        urls = []\n",
    "        \n",
    "        #appends urls to blank list\n",
    "        for index, value in df.entities.iteritems():\n",
    "            urls.append(re.findall(r\"'url': '(\\S+)',\", str(value)))\n",
    "            \n",
    "        #makes list into a new df column\n",
    "        df['url'] = urls    \n",
    "        \n",
    "        #tokenize the tweets\n",
    "        tokenize_tweets = RegexpTokenizer(r'\\w+')\n",
    "        \n",
    "        #create a list of tokens\n",
    "        texts = [tokenize_tweets.tokenize(value) for index, value in df.text.iteritems()]\n",
    "        \n",
    "        \n",
    "        #nake new column for tokens\n",
    "        df['token_text'] = texts\n",
    "        \n",
    "        #append the keywords to the closed words list\n",
    "        \n",
    "        #\n",
    "        closed_words = ['closed', 'flooded', 'inaccessible', 'road', 'stuck', 'flood', 'close', 'drive', 'lane', 'street']\n",
    "        count_list = []\n",
    "        for index, word_list in df.token_text.iteritems():\n",
    "            count = 0\n",
    "            \n",
    "            for word in word_list:\n",
    "                if word.lower() in closed_words:\n",
    "                    count += 1\n",
    "                if word.lower() == 'rt':\n",
    "                    count -= 1\n",
    "            count_list.append(count) #could add different amounts for certain words\n",
    "        df['num_closed_words'] = count_list\n",
    "        \n",
    "        if df[df.num_closed_words > 1].shape[0] == 0:\n",
    "            print('no relevant tweets')\n",
    "        else: \n",
    "            return df[df.num_closed_words > 1]\n",
    "\n",
    "        #return df.num_closed_words.value_counts()\n",
    "\n",
    "        #return (type(df.entities[1]))\n"
   ]
  },
  {
   "cell_type": "code",
   "execution_count": 13,
   "metadata": {},
   "outputs": [
    {
     "name": "stdout",
     "output_type": "stream",
     "text": [
      "no relevant tweets\n"
     ]
    }
   ],
   "source": [
    "event = 'weather'\n",
    "keywords = ['4th', 'u', 'road', 'blocked', 'tree', 'down']\n",
    "twitter_in(event, keywords)"
   ]
  },
  {
   "cell_type": "code",
   "execution_count": null,
   "metadata": {},
   "outputs": [],
   "source": []
  }
 ],
 "metadata": {
  "kernelspec": {
   "display_name": "Python 3",
   "language": "python",
   "name": "python3"
  },
  "language_info": {
   "codemirror_mode": {
    "name": "ipython",
    "version": 3
   },
   "file_extension": ".py",
   "mimetype": "text/x-python",
   "name": "python",
   "nbconvert_exporter": "python",
   "pygments_lexer": "ipython3",
   "version": "3.6.5"
  }
 },
 "nbformat": 4,
 "nbformat_minor": 2
}
